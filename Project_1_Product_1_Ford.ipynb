{
 "cells": [
  {
   "cell_type": "markdown",
   "metadata": {},
   "source": [
    "# FIN 514 - Project 1 - Product 1 - Ford\n",
    "**Spring 2022**\n",
    "\n",
    "https://www.sec.gov/Archives/edgar/data/0000927971/000121465922002254/g210227424b2.htm\n",
    "\n",
    "This notebook provides a model valuation for Product 1 (Ford).\n",
    "We will assume a continuous dividend yield here for ease of calculation\n",
    "Default volatility will be at the money but we will consider volatilities corresponding to different dates corresponding to autocall dates and moneyness levels corresponding to the contingent income barrier.\n",
    "\n",
    "## Packages and Configurations\n",
    "\n",
    "The following common packages will be use on this notebook.\n",
    "\n",
    "* numpy - [https://numpy.org/](https://numpy.org/)\n",
    "* Pandas - [https://pandas.pydata.org/](https://pandas.pydata.org/)\n",
    "* matplotlib - [https://matplotlib.org/](https://matplotlib.org/)\n",
    "* Scipy Statistical functions - [https://docs.scipy.org/doc/scipy/reference/stats.html](https://docs.scipy.org/doc/scipy/reference/stats.html)\n"
   ]
  },
  {
   "cell_type": "code",
   "execution_count": 1,
   "metadata": {},
   "outputs": [],
   "source": [
    "import numpy as np\n",
    "import pandas as pd\n",
    "import scipy.stats as st\n",
    "import matplotlib.pyplot as plt"
   ]
  },
  {
   "cell_type": "code",
   "execution_count": 2,
   "metadata": {},
   "outputs": [],
   "source": [
    "# ENTER INPUTS FOR STOCK\n",
    "\n",
    "N = 730\n",
    "T1 = 730/365\n",
    "T2 = 735/365\n",
    "S0 = 18.35\n",
    "B = 0.55*S0\n",
    "#r1 goes to valuation for stock price movements\n",
    "r1 = 0.013257332\n",
    "#r2 goes to maturity for discounting\n",
    "r2 = 0.013292329\n",
    "q = 0.0225\n",
    "#Put in all vols from 75% moneyness to ATM for sensitivity\n",
    "vol = np.zeros([7])\n",
    "vol[1] = 0.5088\n",
    "vol[2] = 0.4945\n",
    "vol[3] = 0.4819\n",
    "vol[4] = 0.4764\n",
    "vol[5] = 0.4749\n",
    "vol[6] = 0.4685"
   ]
  },
  {
   "cell_type": "code",
   "execution_count": 3,
   "metadata": {},
   "outputs": [],
   "source": [
    "# Enter key dates for product\n",
    "Face = 1000 \n",
    "NC = 4\n",
    "Coupon_rate = 0.13\n",
    "Cpn = Face*Coupon_rate/NC\n",
    "#Coupon only dates\n",
    "tco = [89/365]\n",
    "tcop = [92/365]\n",
    "tac = [181/365, 273/365, 365/365, 454/365, 546/365, 638/365]\n",
    "tacp = [184/365, 279/365, 370/365, 457/365, 551/365, 643/365]\n"
   ]
  },
  {
   "cell_type": "markdown",
   "metadata": {},
   "source": [
    "## Binomial Model Function"
   ]
  },
  {
   "cell_type": "code",
   "execution_count": 4,
   "metadata": {},
   "outputs": [],
   "source": [
    "\n",
    "def CRRPR1_model(S0, B, T1, T2, r1, r2, q, sigma, N, n1max, Cpn, Face, tco, tcop, tac, tacp):\n",
    "      \n",
    "    # LIST TO SAVE RESULTS\n",
    "    crrpr1_F_result = []\n",
    "        \n",
    "    # CREATE TWO DIMENSIONAL ARRAY OF SIZE [N+1,N+1] TO STORE ALL STEPS\n",
    "    # option_value[N+1, N+1]\n",
    "    option_value = np.zeros([n1max*N+1, n1max*N+1])\n",
    "\n",
    "    # CREATE ARRAY FOR STOCK PRICES OF SIZE N+1,N+1\n",
    "    # stock_value[N+1, N+1]\n",
    "    stock_value = np.zeros([n1max*N+1, n1max*N+1])    \n",
    "    \n",
    "    \n",
    "    # FOR LOOP STATEMENT: For a Binomial Tree from start_step to N\n",
    "    for n1 in range(1, n1max+1):\n",
    "        \n",
    "        n = n1*N \n",
    "        \n",
    "        delta = T1 / n\n",
    "        u = np.exp(sigma * (delta)**0.5)\n",
    "        d = 1 / u\n",
    "        qu = (np.exp((r1-q) * delta) - d) / (u - d)\n",
    "        qd = 1 - qu\n",
    "        \n",
    "        jco1 = [j/delta for j in tco]\n",
    "        jco = [int(j) for j in jco1]\n",
    "    \n",
    "        jac1 = [j/delta for j in tac]\n",
    "        jac = [int(j) for j in jac1]\n",
    "        \n",
    "    # CALCULATE OPTION VALUES AT CERTAIN STEPS AND POSITIONS WITHIN THE BINOMIAL TREE:\n",
    "    # Start at the last step number because we are going to be moving backwards from step number n to step number 0\n",
    "    # Hint: j = n and range stop = j \n",
    "        j = n \n",
    "        \n",
    "        for i in range(0, j+1):    \n",
    "  \n",
    "            stock_value[j, i] = S0 * (u**i) * (d**(j - i))\n",
    "            option_value[j, i] = (Face+Cpn)*np.exp(-r2*(T2-T1))\n",
    "            if stock_value[j, i] < B:\n",
    "                option_value[j, i] = (Face*stock_value[j, i]/S0*np.exp(-r2*(T2-T1)))\n",
    "                         \n",
    "        for j in range(n-1, -1, -1):\n",
    "            #if j in jco: print(\"coupon only\",j,jco.index(j))\n",
    "            #if j in jac: print(\"autocall\",j,jac.index(j))  \n",
    "            for i in range(0, j+1, 1):\n",
    "                cont = np.exp(-r2 * delta) * (qu * option_value[j + 1, i + 1] + qd * option_value[j + 1, i])\n",
    "                stock_value[j, i] = S0 * (u**i) * (d**(j - i))\n",
    "                if j in jco: \n",
    "                    if (stock_value[j, i] >= B): cont = cont + Cpn*np.exp(-r2*(tcop[jco.index(j)]-delta*j))  \n",
    "                if j in jac: \n",
    "                    if stock_value[j, i] >= B:\n",
    "                        cont += Cpn*np.exp(-r2*(tacp[jac.index(j)]-delta*j))\n",
    "                    if stock_value[j, i] >= S0:\n",
    "                        cont = (Face + Cpn)*np.exp(-r2*(tacp[jac.index(j)]-delta*j))\n",
    "                option_value[j, i] = cont    \n",
    "                    \n",
    "        output = {'num_steps': n, 'Value': option_value[0,0]}\n",
    "        crrpr1_F_result.append(output)\n",
    "\n",
    "    return crrpr1_F_result\n"
   ]
  },
  {
   "cell_type": "code",
   "execution_count": 5,
   "metadata": {},
   "outputs": [],
   "source": [
    "value = CRRPR1_model(S0, B, T1, T2, r1, r2, q, vol[6], N, 10, Cpn, Face, tco, tcop, tac, tacp)"
   ]
  },
  {
   "cell_type": "code",
   "execution_count": 6,
   "metadata": {},
   "outputs": [],
   "source": [
    "# CREATE A DATAFRAME FROM THE BINOMIAL MODEL OUTPUT\n",
    "df = pd.DataFrame.from_dict(value)"
   ]
  },
  {
   "cell_type": "code",
   "execution_count": 7,
   "metadata": {},
   "outputs": [
    {
     "data": {
      "text/html": [
       "<div>\n",
       "<style scoped>\n",
       "    .dataframe tbody tr th:only-of-type {\n",
       "        vertical-align: middle;\n",
       "    }\n",
       "\n",
       "    .dataframe tbody tr th {\n",
       "        vertical-align: top;\n",
       "    }\n",
       "\n",
       "    .dataframe thead th {\n",
       "        text-align: right;\n",
       "    }\n",
       "</style>\n",
       "<table border=\"1\" class=\"dataframe\">\n",
       "  <thead>\n",
       "    <tr style=\"text-align: right;\">\n",
       "      <th></th>\n",
       "      <th>num_steps</th>\n",
       "      <th>Value</th>\n",
       "    </tr>\n",
       "  </thead>\n",
       "  <tbody>\n",
       "    <tr>\n",
       "      <th>0</th>\n",
       "      <td>730</td>\n",
       "      <td>967.409805</td>\n",
       "    </tr>\n",
       "    <tr>\n",
       "      <th>1</th>\n",
       "      <td>1460</td>\n",
       "      <td>966.448561</td>\n",
       "    </tr>\n",
       "    <tr>\n",
       "      <th>2</th>\n",
       "      <td>2190</td>\n",
       "      <td>966.920148</td>\n",
       "    </tr>\n",
       "    <tr>\n",
       "      <th>3</th>\n",
       "      <td>2920</td>\n",
       "      <td>965.270404</td>\n",
       "    </tr>\n",
       "    <tr>\n",
       "      <th>4</th>\n",
       "      <td>3650</td>\n",
       "      <td>965.702312</td>\n",
       "    </tr>\n",
       "    <tr>\n",
       "      <th>5</th>\n",
       "      <td>4380</td>\n",
       "      <td>963.125949</td>\n",
       "    </tr>\n",
       "    <tr>\n",
       "      <th>6</th>\n",
       "      <td>5110</td>\n",
       "      <td>965.635587</td>\n",
       "    </tr>\n",
       "    <tr>\n",
       "      <th>7</th>\n",
       "      <td>5840</td>\n",
       "      <td>964.838918</td>\n",
       "    </tr>\n",
       "    <tr>\n",
       "      <th>8</th>\n",
       "      <td>6570</td>\n",
       "      <td>965.232178</td>\n",
       "    </tr>\n",
       "    <tr>\n",
       "      <th>9</th>\n",
       "      <td>7300</td>\n",
       "      <td>964.629104</td>\n",
       "    </tr>\n",
       "  </tbody>\n",
       "</table>\n",
       "</div>"
      ],
      "text/plain": [
       "   num_steps       Value\n",
       "0        730  967.409805\n",
       "1       1460  966.448561\n",
       "2       2190  966.920148\n",
       "3       2920  965.270404\n",
       "4       3650  965.702312\n",
       "5       4380  963.125949\n",
       "6       5110  965.635587\n",
       "7       5840  964.838918\n",
       "8       6570  965.232178\n",
       "9       7300  964.629104"
      ]
     },
     "execution_count": 7,
     "metadata": {},
     "output_type": "execute_result"
    }
   ],
   "source": [
    "# INSPECT THE DATAFRAME\n",
    "df"
   ]
  },
  {
   "cell_type": "code",
   "execution_count": 8,
   "metadata": {},
   "outputs": [],
   "source": [
    "# EXPORT THE DATA TO A CSV FILE\n",
    "df.to_csv(\"Data/Proj1_Prod1_F_values.csv\", index=False)"
   ]
  },
  {
   "cell_type": "markdown",
   "metadata": {},
   "source": [
    "### Binomial Model Error Rate"
   ]
  },
  {
   "cell_type": "code",
   "execution_count": 9,
   "metadata": {},
   "outputs": [
    {
     "data": {
      "image/png": "[encoded data removed]",
      "text/plain": [
       "<Figure size 1008x720 with 1 Axes>"
      ]
     },
     "metadata": {
      "needs_background": "light"
     },
     "output_type": "display_data"
    }
   ],
   "source": [
    "fig, ax1 = plt.subplots(figsize=(14,10))\n",
    "ax1.set_ylabel('Value')\n",
    "ax1.plot(df['num_steps'], df['Value'], 'o', markersize=3, color = 'tab:red')\n",
    "plt.savefig('Images/Proj1_Prod1_F.png')\n",
    "plt.show()"
   ]
  },
  {
   "cell_type": "markdown",
   "metadata": {},
   "source": [
    "It looks from this that the value of the product is around USD965, very close the term sheet estimate of USD965.61\n",
    "\n",
    "Now let's see what happens as we change volatility to see the impact of choosing different rates"
   ]
  },
  {
   "cell_type": "code",
   "execution_count": 10,
   "metadata": {},
   "outputs": [],
   "source": [
    "\n",
    "def CRRPR1_vols(S0, B, T1, T2, r1, r2, q, vol, volnum, N, Cpn, Face, tco, tcop, tac, tacp):\n",
    "    \"\"\"\n",
    "    Function to calculates the value of a European Put Option using the CRR Binomial Model \n",
    "    \n",
    "    S0: Original Stock Price\n",
    "    K: Excercise Price of Call Option\n",
    "    T: Time Length of Option in which to Exercise (In Years)\n",
    "    r: Annualized Continously Compounded Risk-free Rate\n",
    "    sigma: Annualized (Future) Volatility of Stock Price Returns\n",
    "    start_step: Starting time step\n",
    "    N: Number of time steps\n",
    "    \n",
    "    \"\"\"    \n",
    "    \n",
    "    # LIST TO SAVE RESULTS\n",
    "    crrpr1_AAPL_vols = []\n",
    "        \n",
    "    # CREATE TWO DIMENSIONAL ARRAY OF SIZE [N+1,N+1] TO STORE ALL STEPS\n",
    "    # option_value[N+1, N+1]\n",
    "    option_value = np.zeros([N+1, N+1])\n",
    "\n",
    "    # CREATE ARRAY FOR STOCK PRICES OF SIZE N+1,N+1\n",
    "    # stock_value[N+1, N+1]\n",
    "    stock_value = np.zeros([N+1, N+1])    \n",
    "    \n",
    "    # FOR LOOP STATEMENT: For a Binomial Tree from start_step to N\n",
    "    for k in range(1, volnum+1):\n",
    "        \n",
    "        sigma = vol[k]\n",
    "        \n",
    "        delta = T1 / N\n",
    "        u = np.exp(sigma * (delta)**0.5)\n",
    "        d = 1 / u\n",
    "        qu = (np.exp((r1-q) * delta) - d) / (u - d)\n",
    "        qd = 1 - qu\n",
    "        \n",
    "        jco1 = [j/delta for j in tco]\n",
    "        jco = [int(j) for j in jco1]\n",
    "    \n",
    "        jac1 = [j/delta for j in tac]\n",
    "        jac = [int(j) for j in jac1]\n",
    "        \n",
    "    # CALCULATE OPTION VALUES AT CERTAIN STEPS AND POSITIONS WITHIN THE BINOMIAL TREE:\n",
    "    # Start at the last step number because we are going to be moving backwards from step number n to step number 0\n",
    "    # Hint: j = n and range stop = j \n",
    "        j = N\n",
    "        \n",
    "        for i in range(0, j+1):    \n",
    "  \n",
    "            stock_value[j, i] = S0 * (u**i) * (d**(j - i))\n",
    "            option_value[j, i] = (Face+Cpn)*np.exp(-r2*(T2-T1))\n",
    "            if stock_value[j, i] < B:\n",
    "                option_value[j, i] = (Face*stock_value[j, i]/S0*np.exp(-r2*(T2-T1)))\n",
    "                         \n",
    "        for j in range(N-1, -1, -1):\n",
    "            #if j in jco: print(\"coupon only\",j,jco.index(j))\n",
    "            #if j in jac: print(\"autocall\",j,jac.index(j))  \n",
    "            for i in range(0, j+1, 1):\n",
    "                cont = np.exp(-r2 * delta) * (qu * option_value[j + 1, i + 1] + qd * option_value[j + 1, i])\n",
    "                stock_value[j, i] = S0 * (u**i) * (d**(j - i))\n",
    "                if j in jco: \n",
    "                    if (stock_value[j, i] >= B): cont = cont + Cpn*np.exp(-r2*(tcop[jco.index(j)]-delta*j))  \n",
    "                if j in jac: \n",
    "                    if stock_value[j, i] >= B:\n",
    "                        cont += Cpn*np.exp(-r2*(tacp[jac.index(j)]-delta*j))\n",
    "                    if stock_value[j, i] >= S0:\n",
    "                        cont = (Face + Cpn)*np.exp(-r2*(tacp[jac.index(j)]-delta*j))\n",
    "                option_value[j, i] = cont    \n",
    "                    \n",
    "        output = {'vol': vol[k], 'Value': option_value[0,0]}\n",
    "        crrpr1_AAPL_vols.append(output)\n",
    "\n",
    "    return crrpr1_AAPL_vols\n"
   ]
  },
  {
   "cell_type": "code",
   "execution_count": 11,
   "metadata": {},
   "outputs": [],
   "source": [
    "ValueV = CRRPR1_vols(S0, B, T1, T2, r1, r2, q, vol, 6, 730*3, Cpn, Face, tco, tcop, tac, tacp)"
   ]
  },
  {
   "cell_type": "code",
   "execution_count": 12,
   "metadata": {},
   "outputs": [],
   "source": [
    "df = pd.DataFrame.from_dict(ValueV)"
   ]
  },
  {
   "cell_type": "code",
   "execution_count": 13,
   "metadata": {},
   "outputs": [
    {
     "data": {
      "text/html": [
       "<div>\n",
       "<style scoped>\n",
       "    .dataframe tbody tr th:only-of-type {\n",
       "        vertical-align: middle;\n",
       "    }\n",
       "\n",
       "    .dataframe tbody tr th {\n",
       "        vertical-align: top;\n",
       "    }\n",
       "\n",
       "    .dataframe thead th {\n",
       "        text-align: right;\n",
       "    }\n",
       "</style>\n",
       "<table border=\"1\" class=\"dataframe\">\n",
       "  <thead>\n",
       "    <tr style=\"text-align: right;\">\n",
       "      <th></th>\n",
       "      <th>vol</th>\n",
       "      <th>Value</th>\n",
       "    </tr>\n",
       "  </thead>\n",
       "  <tbody>\n",
       "    <tr>\n",
       "      <th>0</th>\n",
       "      <td>0.5088</td>\n",
       "      <td>943.103494</td>\n",
       "    </tr>\n",
       "    <tr>\n",
       "      <th>1</th>\n",
       "      <td>0.4945</td>\n",
       "      <td>953.464693</td>\n",
       "    </tr>\n",
       "    <tr>\n",
       "      <th>2</th>\n",
       "      <td>0.4819</td>\n",
       "      <td>958.296413</td>\n",
       "    </tr>\n",
       "    <tr>\n",
       "      <th>3</th>\n",
       "      <td>0.4764</td>\n",
       "      <td>959.811932</td>\n",
       "    </tr>\n",
       "    <tr>\n",
       "      <th>4</th>\n",
       "      <td>0.4749</td>\n",
       "      <td>960.225194</td>\n",
       "    </tr>\n",
       "    <tr>\n",
       "      <th>5</th>\n",
       "      <td>0.4685</td>\n",
       "      <td>966.920148</td>\n",
       "    </tr>\n",
       "  </tbody>\n",
       "</table>\n",
       "</div>"
      ],
      "text/plain": [
       "      vol       Value\n",
       "0  0.5088  943.103494\n",
       "1  0.4945  953.464693\n",
       "2  0.4819  958.296413\n",
       "3  0.4764  959.811932\n",
       "4  0.4749  960.225194\n",
       "5  0.4685  966.920148"
      ]
     },
     "execution_count": 13,
     "metadata": {},
     "output_type": "execute_result"
    }
   ],
   "source": [
    "df"
   ]
  },
  {
   "cell_type": "code",
   "execution_count": 14,
   "metadata": {},
   "outputs": [],
   "source": [
    "df.to_csv(\"Data/Proj1_Prod1_F_vols.csv\", index=False)"
   ]
  },
  {
   "cell_type": "code",
   "execution_count": 15,
   "metadata": {},
   "outputs": [
    {
     "data": {
      "image/png": "[encoded data removed]",
      "text/plain": [
       "<Figure size 1008x720 with 1 Axes>"
      ]
     },
     "metadata": {
      "needs_background": "light"
     },
     "output_type": "display_data"
    }
   ],
   "source": [
    "fig, ax1 = plt.subplots(figsize=(14,10))\n",
    "ax1.set_ylabel('Value')\n",
    "ax1.plot(df['vol'], df['Value'], 'o', markersize=3, color = 'tab:red')\n",
    "plt.savefig('Images/Proj1_Prod1_F_vol.png')\n",
    "plt.show()"
   ]
  },
  {
   "cell_type": "markdown",
   "metadata": {},
   "source": [
    "We clearly see here that the effect of increasing the volatility is to reduce the value of the product as it makes it more likely that the contingent coupon will not be paid and for the higher volatilities the price falls below the prospectus estimate. The ATM volatility we tried first of all gives the value closest to the prospectus one. "
   ]
  }
 ],
 "metadata": {
  "kernelspec": {
   "display_name": "Python 3 (ipykernel)",
   "language": "python",
   "name": "python3"
  },
  "language_info": {
   "codemirror_mode": {
    "name": "ipython",
    "version": 3
   },
   "file_extension": ".py",
   "mimetype": "text/x-python",
   "name": "python",
   "nbconvert_exporter": "python",
   "pygments_lexer": "ipython3",
   "version": "3.9.7"
  }
 },
 "nbformat": 4,
 "nbformat_minor": 4
}
